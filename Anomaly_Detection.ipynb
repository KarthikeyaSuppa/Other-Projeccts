{
  "nbformat": 4,
  "nbformat_minor": 0,
  "metadata": {
    "colab": {
      "provenance": []
    },
    "kernelspec": {
      "name": "python3",
      "display_name": "Python 3"
    },
    "language_info": {
      "name": "python"
    }
  },
  "cells": [
    {
      "cell_type": "code",
      "execution_count": null,
      "metadata": {
        "id": "Mt0NRNaPd1g7"
      },
      "outputs": [],
      "source": [
        "# Import the necessary packages\n",
        "import pandas as pd\n",
        "import numpy as np\n",
        "import matplotlib.pyplot as plt"
      ]
    },
    {
      "cell_type": "code",
      "source": [
        "# Show the plots in your Jupyter Notebook\n",
        "%matplotlib inline"
      ],
      "metadata": {
        "id": "vjUV-GeKd-aN"
      },
      "execution_count": null,
      "outputs": []
    },
    {
      "cell_type": "code",
      "source": [
        "# Use a predefined style set\n",
        "plt.style.use('ggplot')"
      ],
      "metadata": {
        "id": "nuqom80jeBSb"
      },
      "execution_count": null,
      "outputs": []
    },
    {
      "cell_type": "code",
      "source": [
        "!pip install faker"
      ],
      "metadata": {
        "colab": {
          "base_uri": "https://localhost:8080/"
        },
        "id": "21JmFLgkeHc5",
        "outputId": "9ed22c92-15d7-4e64-e255-099a7a50d4b1"
      },
      "execution_count": null,
      "outputs": [
        {
          "output_type": "stream",
          "name": "stdout",
          "text": [
            "Looking in indexes: https://pypi.org/simple, https://us-python.pkg.dev/colab-wheels/public/simple/\n",
            "Collecting faker\n",
            "  Downloading Faker-15.3.4-py3-none-any.whl (1.6 MB)\n",
            "\u001b[2K     \u001b[90m━━━━━━━━━━━━━━━━━━━━━━━━━━━━━━━━━━━━━━━━\u001b[0m \u001b[32m1.6/1.6 MB\u001b[0m \u001b[31m26.0 MB/s\u001b[0m eta \u001b[36m0:00:00\u001b[0m\n",
            "\u001b[?25hRequirement already satisfied: python-dateutil>=2.4 in /usr/local/lib/python3.8/dist-packages (from faker) (2.8.2)\n",
            "Requirement already satisfied: six>=1.5 in /usr/local/lib/python3.8/dist-packages (from python-dateutil>=2.4->faker) (1.15.0)\n",
            "Installing collected packages: faker\n",
            "Successfully installed faker-15.3.4\n"
          ]
        }
      ]
    },
    {
      "cell_type": "code",
      "source": [
        "from faker import Faker\n",
        "fake = Faker()\n",
        "\n",
        "# To ensure the results are reproducible\n",
        "Faker.seed(123)"
      ],
      "metadata": {
        "id": "5WdVm8zEeC-g"
      },
      "execution_count": null,
      "outputs": []
    },
    {
      "cell_type": "code",
      "source": [
        "fake.name()"
      ],
      "metadata": {
        "colab": {
          "base_uri": "https://localhost:8080/",
          "height": 36
        },
        "id": "DBlgEXaXegZa",
        "outputId": "c92fafd5-e87d-4b33-a455-3d2315c6fb21"
      },
      "execution_count": null,
      "outputs": [
        {
          "output_type": "execute_result",
          "data": {
            "text/plain": [
              "'Brandon Russell'"
            ],
            "application/vnd.google.colaboratory.intrinsic+json": {
              "type": "string"
            }
          },
          "metadata": {},
          "execution_count": 6
        }
      ]
    },
    {
      "cell_type": "code",
      "source": [
        "fake.state()"
      ],
      "metadata": {
        "colab": {
          "base_uri": "https://localhost:8080/",
          "height": 36
        },
        "id": "GkDQC5tVe-pP",
        "outputId": "21d8d906-27ec-49b8-df61-c9c3852acebe"
      },
      "execution_count": null,
      "outputs": [
        {
          "output_type": "execute_result",
          "data": {
            "text/plain": [
              "'Connecticut'"
            ],
            "application/vnd.google.colaboratory.intrinsic+json": {
              "type": "string"
            }
          },
          "metadata": {},
          "execution_count": 7
        }
      ]
    },
    {
      "cell_type": "code",
      "source": [
        "fake_in = Faker('en_IN')"
      ],
      "metadata": {
        "id": "pHvgGFoQfAba"
      },
      "execution_count": null,
      "outputs": []
    },
    {
      "cell_type": "code",
      "source": [
        "fake_in.name()"
      ],
      "metadata": {
        "colab": {
          "base_uri": "https://localhost:8080/",
          "height": 36
        },
        "id": "AJrM3qyEfMPt",
        "outputId": "b3cdae3f-bfd9-407b-8663-271b430c8a46"
      },
      "execution_count": null,
      "outputs": [
        {
          "output_type": "execute_result",
          "data": {
            "text/plain": [
              "'Vaibhav Loyal'"
            ],
            "application/vnd.google.colaboratory.intrinsic+json": {
              "type": "string"
            }
          },
          "metadata": {},
          "execution_count": 9
        }
      ]
    },
    {
      "cell_type": "code",
      "source": [
        "names_list = []\n",
        "\n",
        "for _ in range(100):\n",
        "  names_list.append(fake_in.name())\n",
        "\n",
        "# Verify if 100 names were generated\n",
        "len(names_list)"
      ],
      "metadata": {
        "colab": {
          "base_uri": "https://localhost:8080/"
        },
        "id": "WEZ39PNPeLra",
        "outputId": "6f4249b0-a8e0-4b79-e6d8-4c638f1a6cab"
      },
      "execution_count": null,
      "outputs": [
        {
          "output_type": "execute_result",
          "data": {
            "text/plain": [
              "100"
            ]
          },
          "metadata": {},
          "execution_count": 10
        }
      ]
    },
    {
      "cell_type": "code",
      "source": [
        "print(names_list)"
      ],
      "metadata": {
        "colab": {
          "base_uri": "https://localhost:8080/"
        },
        "id": "hiPPKDaLeXaU",
        "outputId": "bf500126-c299-44f4-ba91-aebef60cdcf2"
      },
      "execution_count": null,
      "outputs": [
        {
          "output_type": "stream",
          "name": "stdout",
          "text": [
            "['Shlok Varkey', 'Indranil Bir', 'Jhanvi Ganesan', 'Ishaan Acharya', 'Urvi Bassi', 'Darshit Aggarwal', 'Sana Kapur', 'Azad Batra', 'Gokul Subramanian', 'Riaan Kale', 'Prerak Keer', 'Tiya Dua', 'Elakshi Suresh', 'Lagan Tara', 'Abram Issac', 'Piya Luthra', 'Elakshi Sami', 'Umang Kumer', 'Tanya Roy', 'Samaira Tank', 'Aradhya Saha', 'Jayan Ganesh', 'Ishita Hayre', 'Samaira Kari', 'Kaira Sood', 'Advik Chandra', 'Mishti Gopal', 'Sumer Contractor', 'Hazel Krishna', 'Navya Dhawan', 'Tarini Rau', 'Inaaya  Khurana', 'Indrans Loyal', 'Uthkarsh Sheth', 'Azad Ahluwalia', 'Amani Char', 'Onkar Sura', 'Piya Deshpande', 'Myra Kade', 'Emir Ranganathan', 'Diya Goel', 'Dharmajan Kalita', 'Yashvi Loyal', 'Devansh Mahajan', 'Aniruddh Edwin', 'Anaya Babu', 'Zeeshan Ghosh', 'Navya Ravi', 'Aaina Balay', 'Umang Sami', 'Shanaya Baral', 'Tara Lad', 'Heer Dua', 'Neysa Som', 'Urvi Tiwari', 'Tushar Bhatnagar', 'Ela Bhasin', 'Zaina Raja', 'Adah Balasubramanian', 'Amani Sami', 'Stuvan Kar', 'Romil Kala', 'Indranil Lal', 'Ela Kurian', 'Shlok Krishna', 'Inaaya  Seshadri', 'Mamooty Warrior', 'Divij Deshpande', 'Lagan Wali', 'Prerak Issac', 'Damini Baria', 'Dishani Chaudhry', 'Kartik Desai', 'Dharmajan Rama', 'Dharmajan Garde', 'Zoya Loke', 'Vedika Yohannan', 'Bhamini Setty', 'Urvi Atwal', 'Riya Thaman', 'Shlok Hora', 'Damini Bhatnagar', 'Yashvi Subramanian', 'Shlok Sarin', 'Prisha Bal', 'Amira Golla', 'Saksham Gola', 'Trisha Kapur', 'Zoya Shetty', 'Jivin Halder', 'Zeeshan Guha', 'Jayant Varty', 'Tushar Banerjee', 'Gatik Deo', 'Bhavin Gupta', 'Khushi Hari', 'Emir Kaul', 'Nirvaan Sabharwal', 'Priyansh Trivedi', 'Jivika Mangal']\n"
          ]
        }
      ]
    },
    {
      "cell_type": "code",
      "source": [
        "np.random.seed(7)\n",
        "\n",
        "salaries = []\n",
        "for _ in range(100):\n",
        "    salary = np.random.randint(10000,20000)\n",
        "    salaries.append(salary)\n",
        "\n",
        "    # Verify if 100 salariy values were generated\n",
        "len(salaries)"
      ],
      "metadata": {
        "colab": {
          "base_uri": "https://localhost:8080/"
        },
        "id": "T9L_9-1qeZGj",
        "outputId": "6781d5fc-3fbb-4179-dbb2-3709a405c165"
      },
      "execution_count": null,
      "outputs": [
        {
          "output_type": "execute_result",
          "data": {
            "text/plain": [
              "100"
            ]
          },
          "metadata": {},
          "execution_count": 15
        }
      ]
    },
    {
      "cell_type": "code",
      "source": [
        "print(salaries)"
      ],
      "metadata": {
        "colab": {
          "base_uri": "https://localhost:8080/"
        },
        "id": "9GPhH0mQgixU",
        "outputId": "426240a3-43cc-412f-cc29-505c6d3f4fb6"
      },
      "execution_count": null,
      "outputs": [
        {
          "output_type": "stream",
          "name": "stdout",
          "text": [
            "[19412, 10537, 15699, 14307, 10919, 11372, 17566, 12583, 14441, 13239, 16118, 11092, 11456, 16015, 18583, 17084, 17680, 17955, 13516, 19541, 13896, 11176, 12997, 14859, 18504, 15582, 18964, 19353, 17651, 19411, 17240, 10257, 19920, 16047, 15469, 16748, 10764, 16423, 12851, 15437, 15511, 10092, 14855, 11248, 19877, 12404, 10931, 16625, 12627, 18059, 15339, 14577, 15139, 17684, 10787, 18225, 15406, 17865, 16885, 15085, 16097, 11439, 14018, 15751, 18239, 10784, 16668, 10349, 17913, 14489, 10844, 15955, 14718, 14732, 14372, 12044, 16031, 12308, 16600, 15594, 15882, 13638, 17151, 13287, 10973, 14135, 11155, 13485, 18758, 18565, 12758, 14140, 10647, 13793, 16122, 10197, 12148, 13252, 11001, 10169]\n"
          ]
        }
      ]
    },
    {
      "cell_type": "code",
      "source": [
        "# Create pandas DataFrame\n",
        "salary_df = pd.DataFrame(\n",
        "    {'Name': names_list,\n",
        "     'Salary': salaries\n",
        "    })\n",
        "\n",
        "# Print a subsection of the DataFrame\n",
        "salary_df.head()"
      ],
      "metadata": {
        "colab": {
          "base_uri": "https://localhost:8080/",
          "height": 206
        },
        "id": "Aacpn0Nwgj7w",
        "outputId": "8bcd158f-b465-44a5-acec-b479ce679c52"
      },
      "execution_count": null,
      "outputs": [
        {
          "output_type": "execute_result",
          "data": {
            "text/plain": [
              "             Name  Salary\n",
              "0    Shlok Varkey   19412\n",
              "1    Indranil Bir   10537\n",
              "2  Jhanvi Ganesan   15699\n",
              "3  Ishaan Acharya   14307\n",
              "4      Urvi Bassi   10919"
            ],
            "text/html": [
              "\n",
              "  <div id=\"df-e469cf5e-4e36-4f96-a6b6-c0a72cc8e719\">\n",
              "    <div class=\"colab-df-container\">\n",
              "      <div>\n",
              "<style scoped>\n",
              "    .dataframe tbody tr th:only-of-type {\n",
              "        vertical-align: middle;\n",
              "    }\n",
              "\n",
              "    .dataframe tbody tr th {\n",
              "        vertical-align: top;\n",
              "    }\n",
              "\n",
              "    .dataframe thead th {\n",
              "        text-align: right;\n",
              "    }\n",
              "</style>\n",
              "<table border=\"1\" class=\"dataframe\">\n",
              "  <thead>\n",
              "    <tr style=\"text-align: right;\">\n",
              "      <th></th>\n",
              "      <th>Name</th>\n",
              "      <th>Salary</th>\n",
              "    </tr>\n",
              "  </thead>\n",
              "  <tbody>\n",
              "    <tr>\n",
              "      <th>0</th>\n",
              "      <td>Shlok Varkey</td>\n",
              "      <td>19412</td>\n",
              "    </tr>\n",
              "    <tr>\n",
              "      <th>1</th>\n",
              "      <td>Indranil Bir</td>\n",
              "      <td>10537</td>\n",
              "    </tr>\n",
              "    <tr>\n",
              "      <th>2</th>\n",
              "      <td>Jhanvi Ganesan</td>\n",
              "      <td>15699</td>\n",
              "    </tr>\n",
              "    <tr>\n",
              "      <th>3</th>\n",
              "      <td>Ishaan Acharya</td>\n",
              "      <td>14307</td>\n",
              "    </tr>\n",
              "    <tr>\n",
              "      <th>4</th>\n",
              "      <td>Urvi Bassi</td>\n",
              "      <td>10919</td>\n",
              "    </tr>\n",
              "  </tbody>\n",
              "</table>\n",
              "</div>\n",
              "      <button class=\"colab-df-convert\" onclick=\"convertToInteractive('df-e469cf5e-4e36-4f96-a6b6-c0a72cc8e719')\"\n",
              "              title=\"Convert this dataframe to an interactive table.\"\n",
              "              style=\"display:none;\">\n",
              "        \n",
              "  <svg xmlns=\"http://www.w3.org/2000/svg\" height=\"24px\"viewBox=\"0 0 24 24\"\n",
              "       width=\"24px\">\n",
              "    <path d=\"M0 0h24v24H0V0z\" fill=\"none\"/>\n",
              "    <path d=\"M18.56 5.44l.94 2.06.94-2.06 2.06-.94-2.06-.94-.94-2.06-.94 2.06-2.06.94zm-11 1L8.5 8.5l.94-2.06 2.06-.94-2.06-.94L8.5 2.5l-.94 2.06-2.06.94zm10 10l.94 2.06.94-2.06 2.06-.94-2.06-.94-.94-2.06-.94 2.06-2.06.94z\"/><path d=\"M17.41 7.96l-1.37-1.37c-.4-.4-.92-.59-1.43-.59-.52 0-1.04.2-1.43.59L10.3 9.45l-7.72 7.72c-.78.78-.78 2.05 0 2.83L4 21.41c.39.39.9.59 1.41.59.51 0 1.02-.2 1.41-.59l7.78-7.78 2.81-2.81c.8-.78.8-2.07 0-2.86zM5.41 20L4 18.59l7.72-7.72 1.47 1.35L5.41 20z\"/>\n",
              "  </svg>\n",
              "      </button>\n",
              "      \n",
              "  <style>\n",
              "    .colab-df-container {\n",
              "      display:flex;\n",
              "      flex-wrap:wrap;\n",
              "      gap: 12px;\n",
              "    }\n",
              "\n",
              "    .colab-df-convert {\n",
              "      background-color: #E8F0FE;\n",
              "      border: none;\n",
              "      border-radius: 50%;\n",
              "      cursor: pointer;\n",
              "      display: none;\n",
              "      fill: #1967D2;\n",
              "      height: 32px;\n",
              "      padding: 0 0 0 0;\n",
              "      width: 32px;\n",
              "    }\n",
              "\n",
              "    .colab-df-convert:hover {\n",
              "      background-color: #E2EBFA;\n",
              "      box-shadow: 0px 1px 2px rgba(60, 64, 67, 0.3), 0px 1px 3px 1px rgba(60, 64, 67, 0.15);\n",
              "      fill: #174EA6;\n",
              "    }\n",
              "\n",
              "    [theme=dark] .colab-df-convert {\n",
              "      background-color: #3B4455;\n",
              "      fill: #D2E3FC;\n",
              "    }\n",
              "\n",
              "    [theme=dark] .colab-df-convert:hover {\n",
              "      background-color: #434B5C;\n",
              "      box-shadow: 0px 1px 3px 1px rgba(0, 0, 0, 0.15);\n",
              "      filter: drop-shadow(0px 1px 2px rgba(0, 0, 0, 0.3));\n",
              "      fill: #FFFFFF;\n",
              "    }\n",
              "  </style>\n",
              "\n",
              "      <script>\n",
              "        const buttonEl =\n",
              "          document.querySelector('#df-e469cf5e-4e36-4f96-a6b6-c0a72cc8e719 button.colab-df-convert');\n",
              "        buttonEl.style.display =\n",
              "          google.colab.kernel.accessAllowed ? 'block' : 'none';\n",
              "\n",
              "        async function convertToInteractive(key) {\n",
              "          const element = document.querySelector('#df-e469cf5e-4e36-4f96-a6b6-c0a72cc8e719');\n",
              "          const dataTable =\n",
              "            await google.colab.kernel.invokeFunction('convertToInteractive',\n",
              "                                                     [key], {});\n",
              "          if (!dataTable) return;\n",
              "\n",
              "          const docLinkHtml = 'Like what you see? Visit the ' +\n",
              "            '<a target=\"_blank\" href=https://colab.research.google.com/notebooks/data_table.ipynb>data table notebook</a>'\n",
              "            + ' to learn more about interactive tables.';\n",
              "          element.innerHTML = '';\n",
              "          dataTable['output_type'] = 'display_data';\n",
              "          await google.colab.output.renderOutput(dataTable, element);\n",
              "          const docLink = document.createElement('div');\n",
              "          docLink.innerHTML = docLinkHtml;\n",
              "          element.appendChild(docLink);\n",
              "        }\n",
              "      </script>\n",
              "    </div>\n",
              "  </div>\n",
              "  "
            ]
          },
          "metadata": {},
          "execution_count": 21
        }
      ]
    },
    {
      "cell_type": "code",
      "source": [
        "salary_df.at[12, 'Salary'] = 12\n",
        "salary_df.at[60, 'Salary'] = 40000"
      ],
      "metadata": {
        "id": "zEVXgIt4gna7"
      },
      "execution_count": null,
      "outputs": []
    },
    {
      "cell_type": "code",
      "source": [
        "# Verify if the salaries were changed\n",
        "print(salary_df.loc[12])\n",
        "print(salary_df.loc[60])"
      ],
      "metadata": {
        "colab": {
          "base_uri": "https://localhost:8080/"
        },
        "id": "qDUhG17Mg4y4",
        "outputId": "b8cee181-509f-4d11-bc86-864e2b95a8f8"
      },
      "execution_count": null,
      "outputs": [
        {
          "output_type": "stream",
          "name": "stdout",
          "text": [
            "Name      Elakshi Suresh\n",
            "Salary                12\n",
            "Name: 12, dtype: object\n",
            "Name      Stuvan Kar\n",
            "Salary         40000\n",
            "Name: 60, dtype: object\n"
          ]
        }
      ]
    },
    {
      "cell_type": "code",
      "source": [
        "salary_df.at[62, 'Salary'] = 30000\n",
        "print(salary_df.loc[62])"
      ],
      "metadata": {
        "colab": {
          "base_uri": "https://localhost:8080/"
        },
        "id": "H_A4Mao-TqaD",
        "outputId": "3a12ae92-aad1-4c7b-f615-1c4c45110a38"
      },
      "execution_count": null,
      "outputs": [
        {
          "output_type": "stream",
          "name": "stdout",
          "text": [
            "Name      Indranil Lal\n",
            "Salary           30000\n",
            "Name: 62, dtype: object\n"
          ]
        }
      ]
    },
    {
      "cell_type": "code",
      "source": [
        "salary_df.at[88, 'Salary'] = 4100\n",
        "print(salary_df.loc[88])"
      ],
      "metadata": {
        "colab": {
          "base_uri": "https://localhost:8080/"
        },
        "id": "S5WtkUSKVAR0",
        "outputId": "22d12783-8590-450f-f677-7da3380cf32b"
      },
      "execution_count": null,
      "outputs": [
        {
          "output_type": "stream",
          "name": "stdout",
          "text": [
            "Name      Zoya Shetty\n",
            "Salary           4100\n",
            "Name: 88, dtype: object\n"
          ]
        }
      ]
    },
    {
      "cell_type": "code",
      "source": [
        "salary_df.at[89, 'Salary'] = 5500\n",
        "print(salary_df.loc[89])"
      ],
      "metadata": {
        "colab": {
          "base_uri": "https://localhost:8080/"
        },
        "id": "1uWtC6SsVJ4O",
        "outputId": "bdae07c0-5b9f-4029-f3e8-bc7cdedb4b6d"
      },
      "execution_count": null,
      "outputs": [
        {
          "output_type": "stream",
          "name": "stdout",
          "text": [
            "Name      Jivin Halder\n",
            "Salary            5500\n",
            "Name: 89, dtype: object\n"
          ]
        }
      ]
    },
    {
      "cell_type": "code",
      "source": [
        "salary_df['Salary'].plot(kind = 'box')\n",
        "\n",
        "plt.show()"
      ],
      "metadata": {
        "colab": {
          "base_uri": "https://localhost:8080/",
          "height": 265
        },
        "id": "AgpPggWemIxx",
        "outputId": "1aef41c0-4766-43a6-c635-c183dab3c52a"
      },
      "execution_count": null,
      "outputs": [
        {
          "output_type": "display_data",
          "data": {
            "text/plain": [
              "<Figure size 432x288 with 1 Axes>"
            ],
            "image/png": "[encoded data removed]"
          },
          "metadata": {}
        }
      ]
    },
    {
      "cell_type": "code",
      "source": [
        "salary_df['Salary'].plot(kind = 'hist')\n",
        "\n",
        "plt.show()"
      ],
      "metadata": {
        "colab": {
          "base_uri": "https://localhost:8080/",
          "height": 265
        },
        "id": "twnG2My2TfU6",
        "outputId": "92b7eb4d-aa3c-415f-cdaa-383ef80f49cf"
      },
      "execution_count": null,
      "outputs": [
        {
          "output_type": "display_data",
          "data": {
            "text/plain": [
              "<Figure size 432x288 with 1 Axes>"
            ],
            "image/png": "[encoded data removed]"
          },
          "metadata": {}
        }
      ]
    },
    {
      "cell_type": "code",
      "source": [],
      "metadata": {
        "id": "O3D6tHjCVzxy"
      },
      "execution_count": null,
      "outputs": []
    }
  ]
}