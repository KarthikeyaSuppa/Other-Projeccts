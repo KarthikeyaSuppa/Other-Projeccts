{
 "cells": [
  {
   "cell_type": "markdown",
   "id": "d01c4e6e",
   "metadata": {
    "id": "rrA907nagec8",
    "papermill": {
     "duration": 0.00538,
     "end_time": "2023-09-09T18:32:23.295314",
     "exception": false,
     "start_time": "2023-09-09T18:32:23.289934",
     "status": "completed"
    },
    "tags": []
   },
   "source": [
    "Wine Brand prediction"
   ]
  },
  {
   "cell_type": "markdown",
   "id": "5ce2cb36",
   "metadata": {
    "id": "hBpkImgXh6IX",
    "papermill": {
     "duration": 0.00407,
     "end_time": "2023-09-09T18:32:23.303935",
     "exception": false,
     "start_time": "2023-09-09T18:32:23.299865",
     "status": "completed"
    },
    "tags": []
   },
   "source": [
    "This model is to predict the wine brand from the metrics that is provided in the dataset."
   ]
  },
  {
   "cell_type": "code",
   "execution_count": 1,
   "id": "c7147843",
   "metadata": {
    "execution": {
     "iopub.execute_input": "2023-09-09T18:32:23.316164Z",
     "iopub.status.busy": "2023-09-09T18:32:23.315776Z",
     "iopub.status.idle": "2023-09-09T18:32:23.679324Z",
     "shell.execute_reply": "2023-09-09T18:32:23.677541Z"
    },
    "id": "oonNuW73Wz7P",
    "papermill": {
     "duration": 0.372636,
     "end_time": "2023-09-09T18:32:23.681866",
     "exception": false,
     "start_time": "2023-09-09T18:32:23.309230",
     "status": "completed"
    },
    "tags": []
   },
   "outputs": [],
   "source": [
    "#1\n",
    "import pandas as pd"
   ]
  },
  {
   "cell_type": "code",
   "execution_count": 2,
   "id": "bb012b44",
   "metadata": {
    "execution": {
     "iopub.execute_input": "2023-09-09T18:32:23.693563Z",
     "iopub.status.busy": "2023-09-09T18:32:23.693012Z",
     "iopub.status.idle": "2023-09-09T18:32:24.138379Z",
     "shell.execute_reply": "2023-09-09T18:32:24.137369Z"
    },
    "id": "VGEs-c_AXyzi",
    "papermill": {
     "duration": 0.453935,
     "end_time": "2023-09-09T18:32:24.140787",
     "exception": false,
     "start_time": "2023-09-09T18:32:23.686852",
     "status": "completed"
    },
    "tags": []
   },
   "outputs": [],
   "source": [
    "#2\n",
    "wine = pd.read_csv('https://github.com/YBIFoundation/Dataset/raw/main/Wine.csv')"
   ]
  },
  {
   "cell_type": "code",
   "execution_count": 3,
   "id": "f8fe1c13",
   "metadata": {
    "execution": {
     "iopub.execute_input": "2023-09-09T18:32:24.152290Z",
     "iopub.status.busy": "2023-09-09T18:32:24.151523Z",
     "iopub.status.idle": "2023-09-09T18:32:24.217139Z",
     "shell.execute_reply": "2023-09-09T18:32:24.215884Z"
    },
    "id": "J8No4im2Xy4D",
    "outputId": "831c185a-b064-4cc9-d62b-41207b3b93a4",
    "papermill": {
     "duration": 0.074197,
     "end_time": "2023-09-09T18:32:24.219823",
     "exception": false,
     "start_time": "2023-09-09T18:32:24.145626",
     "status": "completed"
    },
    "tags": []
   },
   "outputs": [
    {
     "data": {
      "text/html": [
       "<div>\n",
       "<style scoped>\n",
       "    .dataframe tbody tr th:only-of-type {\n",
       "        vertical-align: middle;\n",
       "    }\n",
       "\n",
       "    .dataframe tbody tr th {\n",
       "        vertical-align: top;\n",
       "    }\n",
       "\n",
       "    .dataframe thead th {\n",
       "        text-align: right;\n",
       "    }\n",
       "</style>\n",
       "<table border=\"1\" class=\"dataframe\">\n",
       "  <thead>\n",
       "    <tr style=\"text-align: right;\">\n",
       "      <th></th>\n",
       "      <th>class_label</th>\n",
       "      <th>alcohol</th>\n",
       "      <th>malic_acid</th>\n",
       "      <th>ash</th>\n",
       "      <th>alcalinity_of_ash</th>\n",
       "      <th>magnesium</th>\n",
       "      <th>total_phenols</th>\n",
       "      <th>flavanoids</th>\n",
       "      <th>nonflavanoid_phenols</th>\n",
       "      <th>proanthocyanins</th>\n",
       "      <th>color_intensity</th>\n",
       "      <th>hue</th>\n",
       "      <th>od280</th>\n",
       "      <th>proline</th>\n",
       "    </tr>\n",
       "  </thead>\n",
       "  <tbody>\n",
       "    <tr>\n",
       "      <th>count</th>\n",
       "      <td>178.000000</td>\n",
       "      <td>178.000000</td>\n",
       "      <td>178.000000</td>\n",
       "      <td>178.000000</td>\n",
       "      <td>178.000000</td>\n",
       "      <td>178.000000</td>\n",
       "      <td>178.000000</td>\n",
       "      <td>178.000000</td>\n",
       "      <td>178.000000</td>\n",
       "      <td>178.000000</td>\n",
       "      <td>178.000000</td>\n",
       "      <td>178.000000</td>\n",
       "      <td>178.000000</td>\n",
       "      <td>178.000000</td>\n",
       "    </tr>\n",
       "    <tr>\n",
       "      <th>mean</th>\n",
       "      <td>1.938202</td>\n",
       "      <td>13.000618</td>\n",
       "      <td>2.336348</td>\n",
       "      <td>2.366517</td>\n",
       "      <td>19.494944</td>\n",
       "      <td>99.741573</td>\n",
       "      <td>2.295112</td>\n",
       "      <td>2.029270</td>\n",
       "      <td>0.361854</td>\n",
       "      <td>1.590899</td>\n",
       "      <td>5.058090</td>\n",
       "      <td>0.957449</td>\n",
       "      <td>2.611685</td>\n",
       "      <td>746.893258</td>\n",
       "    </tr>\n",
       "    <tr>\n",
       "      <th>std</th>\n",
       "      <td>0.775035</td>\n",
       "      <td>0.811827</td>\n",
       "      <td>1.117146</td>\n",
       "      <td>0.274344</td>\n",
       "      <td>3.339564</td>\n",
       "      <td>14.282484</td>\n",
       "      <td>0.625851</td>\n",
       "      <td>0.998859</td>\n",
       "      <td>0.124453</td>\n",
       "      <td>0.572359</td>\n",
       "      <td>2.318286</td>\n",
       "      <td>0.228572</td>\n",
       "      <td>0.709990</td>\n",
       "      <td>314.907474</td>\n",
       "    </tr>\n",
       "    <tr>\n",
       "      <th>min</th>\n",
       "      <td>1.000000</td>\n",
       "      <td>11.030000</td>\n",
       "      <td>0.740000</td>\n",
       "      <td>1.360000</td>\n",
       "      <td>10.600000</td>\n",
       "      <td>70.000000</td>\n",
       "      <td>0.980000</td>\n",
       "      <td>0.340000</td>\n",
       "      <td>0.130000</td>\n",
       "      <td>0.410000</td>\n",
       "      <td>1.280000</td>\n",
       "      <td>0.480000</td>\n",
       "      <td>1.270000</td>\n",
       "      <td>278.000000</td>\n",
       "    </tr>\n",
       "    <tr>\n",
       "      <th>25%</th>\n",
       "      <td>1.000000</td>\n",
       "      <td>12.362500</td>\n",
       "      <td>1.602500</td>\n",
       "      <td>2.210000</td>\n",
       "      <td>17.200000</td>\n",
       "      <td>88.000000</td>\n",
       "      <td>1.742500</td>\n",
       "      <td>1.205000</td>\n",
       "      <td>0.270000</td>\n",
       "      <td>1.250000</td>\n",
       "      <td>3.220000</td>\n",
       "      <td>0.782500</td>\n",
       "      <td>1.937500</td>\n",
       "      <td>500.500000</td>\n",
       "    </tr>\n",
       "    <tr>\n",
       "      <th>50%</th>\n",
       "      <td>2.000000</td>\n",
       "      <td>13.050000</td>\n",
       "      <td>1.865000</td>\n",
       "      <td>2.360000</td>\n",
       "      <td>19.500000</td>\n",
       "      <td>98.000000</td>\n",
       "      <td>2.355000</td>\n",
       "      <td>2.135000</td>\n",
       "      <td>0.340000</td>\n",
       "      <td>1.555000</td>\n",
       "      <td>4.690000</td>\n",
       "      <td>0.965000</td>\n",
       "      <td>2.780000</td>\n",
       "      <td>673.500000</td>\n",
       "    </tr>\n",
       "    <tr>\n",
       "      <th>75%</th>\n",
       "      <td>3.000000</td>\n",
       "      <td>13.677500</td>\n",
       "      <td>3.082500</td>\n",
       "      <td>2.557500</td>\n",
       "      <td>21.500000</td>\n",
       "      <td>107.000000</td>\n",
       "      <td>2.800000</td>\n",
       "      <td>2.875000</td>\n",
       "      <td>0.437500</td>\n",
       "      <td>1.950000</td>\n",
       "      <td>6.200000</td>\n",
       "      <td>1.120000</td>\n",
       "      <td>3.170000</td>\n",
       "      <td>985.000000</td>\n",
       "    </tr>\n",
       "    <tr>\n",
       "      <th>max</th>\n",
       "      <td>3.000000</td>\n",
       "      <td>14.830000</td>\n",
       "      <td>5.800000</td>\n",
       "      <td>3.230000</td>\n",
       "      <td>30.000000</td>\n",
       "      <td>162.000000</td>\n",
       "      <td>3.880000</td>\n",
       "      <td>5.080000</td>\n",
       "      <td>0.660000</td>\n",
       "      <td>3.580000</td>\n",
       "      <td>13.000000</td>\n",
       "      <td>1.710000</td>\n",
       "      <td>4.000000</td>\n",
       "      <td>1680.000000</td>\n",
       "    </tr>\n",
       "  </tbody>\n",
       "</table>\n",
       "</div>"
      ],
      "text/plain": [
       "       class_label     alcohol  malic_acid         ash  alcalinity_of_ash  \\\n",
       "count   178.000000  178.000000  178.000000  178.000000         178.000000   \n",
       "mean      1.938202   13.000618    2.336348    2.366517          19.494944   \n",
       "std       0.775035    0.811827    1.117146    0.274344           3.339564   \n",
       "min       1.000000   11.030000    0.740000    1.360000          10.600000   \n",
       "25%       1.000000   12.362500    1.602500    2.210000          17.200000   \n",
       "50%       2.000000   13.050000    1.865000    2.360000          19.500000   \n",
       "75%       3.000000   13.677500    3.082500    2.557500          21.500000   \n",
       "max       3.000000   14.830000    5.800000    3.230000          30.000000   \n",
       "\n",
       "        magnesium  total_phenols  flavanoids  nonflavanoid_phenols  \\\n",
       "count  178.000000     178.000000  178.000000            178.000000   \n",
       "mean    99.741573       2.295112    2.029270              0.361854   \n",
       "std     14.282484       0.625851    0.998859              0.124453   \n",
       "min     70.000000       0.980000    0.340000              0.130000   \n",
       "25%     88.000000       1.742500    1.205000              0.270000   \n",
       "50%     98.000000       2.355000    2.135000              0.340000   \n",
       "75%    107.000000       2.800000    2.875000              0.437500   \n",
       "max    162.000000       3.880000    5.080000              0.660000   \n",
       "\n",
       "       proanthocyanins  color_intensity         hue       od280      proline  \n",
       "count       178.000000       178.000000  178.000000  178.000000   178.000000  \n",
       "mean          1.590899         5.058090    0.957449    2.611685   746.893258  \n",
       "std           0.572359         2.318286    0.228572    0.709990   314.907474  \n",
       "min           0.410000         1.280000    0.480000    1.270000   278.000000  \n",
       "25%           1.250000         3.220000    0.782500    1.937500   500.500000  \n",
       "50%           1.555000         4.690000    0.965000    2.780000   673.500000  \n",
       "75%           1.950000         6.200000    1.120000    3.170000   985.000000  \n",
       "max           3.580000        13.000000    1.710000    4.000000  1680.000000  "
      ]
     },
     "execution_count": 3,
     "metadata": {},
     "output_type": "execute_result"
    }
   ],
   "source": [
    "#3\n",
    "wine.describe()"
   ]
  },
  {
   "cell_type": "code",
   "execution_count": 4,
   "id": "818cd9f5",
   "metadata": {
    "execution": {
     "iopub.execute_input": "2023-09-09T18:32:24.232436Z",
     "iopub.status.busy": "2023-09-09T18:32:24.232018Z",
     "iopub.status.idle": "2023-09-09T18:32:24.260918Z",
     "shell.execute_reply": "2023-09-09T18:32:24.259075Z"
    },
    "id": "lkvZEuknXy7Z",
    "outputId": "c2b1daf4-a7d5-476d-e8b8-a426250658c2",
    "papermill": {
     "duration": 0.037484,
     "end_time": "2023-09-09T18:32:24.262957",
     "exception": false,
     "start_time": "2023-09-09T18:32:24.225473",
     "status": "completed"
    },
    "tags": []
   },
   "outputs": [
    {
     "name": "stdout",
     "output_type": "stream",
     "text": [
      "<class 'pandas.core.frame.DataFrame'>\n",
      "RangeIndex: 178 entries, 0 to 177\n",
      "Data columns (total 15 columns):\n",
      " #   Column                Non-Null Count  Dtype  \n",
      "---  ------                --------------  -----  \n",
      " 0   class_label           178 non-null    int64  \n",
      " 1   class_name            178 non-null    object \n",
      " 2   alcohol               178 non-null    float64\n",
      " 3   malic_acid            178 non-null    float64\n",
      " 4   ash                   178 non-null    float64\n",
      " 5   alcalinity_of_ash     178 non-null    float64\n",
      " 6   magnesium             178 non-null    int64  \n",
      " 7   total_phenols         178 non-null    float64\n",
      " 8   flavanoids            178 non-null    float64\n",
      " 9   nonflavanoid_phenols  178 non-null    float64\n",
      " 10  proanthocyanins       178 non-null    float64\n",
      " 11  color_intensity       178 non-null    float64\n",
      " 12  hue                   178 non-null    float64\n",
      " 13  od280                 178 non-null    float64\n",
      " 14  proline               178 non-null    int64  \n",
      "dtypes: float64(11), int64(3), object(1)\n",
      "memory usage: 21.0+ KB\n"
     ]
    }
   ],
   "source": [
    "#3\n",
    "wine.info()"
   ]
  },
  {
   "cell_type": "code",
   "execution_count": 5,
   "id": "df65e3c1",
   "metadata": {
    "execution": {
     "iopub.execute_input": "2023-09-09T18:32:24.275887Z",
     "iopub.status.busy": "2023-09-09T18:32:24.275501Z",
     "iopub.status.idle": "2023-09-09T18:32:24.281691Z",
     "shell.execute_reply": "2023-09-09T18:32:24.280398Z"
    },
    "id": "ci-ETvVmanRb",
    "outputId": "b99f27c6-2e1a-459d-944f-14a166464019",
    "papermill": {
     "duration": 0.015164,
     "end_time": "2023-09-09T18:32:24.284256",
     "exception": false,
     "start_time": "2023-09-09T18:32:24.269092",
     "status": "completed"
    },
    "tags": []
   },
   "outputs": [
    {
     "data": {
      "text/plain": [
       "(178, 15)"
      ]
     },
     "execution_count": 5,
     "metadata": {},
     "output_type": "execute_result"
    }
   ],
   "source": [
    "#3\n",
    "wine.shape"
   ]
  },
  {
   "cell_type": "code",
   "execution_count": 6,
   "id": "a146a46c",
   "metadata": {
    "execution": {
     "iopub.execute_input": "2023-09-09T18:32:24.297426Z",
     "iopub.status.busy": "2023-09-09T18:32:24.297072Z",
     "iopub.status.idle": "2023-09-09T18:32:24.302859Z",
     "shell.execute_reply": "2023-09-09T18:32:24.301938Z"
    },
    "id": "77yfgcBIcv2n",
    "outputId": "2da00b77-c51f-43de-97fe-86b8ec84554f",
    "papermill": {
     "duration": 0.01457,
     "end_time": "2023-09-09T18:32:24.304752",
     "exception": false,
     "start_time": "2023-09-09T18:32:24.290182",
     "status": "completed"
    },
    "tags": []
   },
   "outputs": [
    {
     "data": {
      "text/plain": [
       "Index(['class_label', 'class_name', 'alcohol', 'malic_acid', 'ash',\n",
       "       'alcalinity_of_ash', 'magnesium', 'total_phenols', 'flavanoids',\n",
       "       'nonflavanoid_phenols', 'proanthocyanins', 'color_intensity', 'hue',\n",
       "       'od280', 'proline'],\n",
       "      dtype='object')"
      ]
     },
     "execution_count": 6,
     "metadata": {},
     "output_type": "execute_result"
    }
   ],
   "source": [
    "wine.columns"
   ]
  },
  {
   "cell_type": "code",
   "execution_count": 7,
   "id": "3214d56b",
   "metadata": {
    "execution": {
     "iopub.execute_input": "2023-09-09T18:32:24.317920Z",
     "iopub.status.busy": "2023-09-09T18:32:24.317557Z",
     "iopub.status.idle": "2023-09-09T18:32:24.322830Z",
     "shell.execute_reply": "2023-09-09T18:32:24.321677Z"
    },
    "id": "un2hV2zLaU0V",
    "papermill": {
     "duration": 0.014806,
     "end_time": "2023-09-09T18:32:24.325250",
     "exception": false,
     "start_time": "2023-09-09T18:32:24.310444",
     "status": "completed"
    },
    "tags": []
   },
   "outputs": [],
   "source": [
    "y = wine['class_name']"
   ]
  },
  {
   "cell_type": "code",
   "execution_count": 8,
   "id": "51e4b849",
   "metadata": {
    "execution": {
     "iopub.execute_input": "2023-09-09T18:32:24.338513Z",
     "iopub.status.busy": "2023-09-09T18:32:24.338091Z",
     "iopub.status.idle": "2023-09-09T18:32:24.348879Z",
     "shell.execute_reply": "2023-09-09T18:32:24.347738Z"
    },
    "id": "TNseWC00aU37",
    "papermill": {
     "duration": 0.01988,
     "end_time": "2023-09-09T18:32:24.350886",
     "exception": false,
     "start_time": "2023-09-09T18:32:24.331006",
     "status": "completed"
    },
    "tags": []
   },
   "outputs": [],
   "source": [
    "X = wine[['color_intensity','proline', 'alcohol', 'malic_acid', 'ash',\n",
    "       'alcalinity_of_ash', 'magnesium', 'total_phenols', 'flavanoids',\n",
    "       'nonflavanoid_phenols', 'proanthocyanins', 'hue',\n",
    "       'od280']]"
   ]
  },
  {
   "cell_type": "code",
   "execution_count": 9,
   "id": "3c81d5e2",
   "metadata": {
    "execution": {
     "iopub.execute_input": "2023-09-09T18:32:24.363789Z",
     "iopub.status.busy": "2023-09-09T18:32:24.363431Z",
     "iopub.status.idle": "2023-09-09T18:32:25.691944Z",
     "shell.execute_reply": "2023-09-09T18:32:25.690402Z"
    },
    "id": "n756cBNBXy-i",
    "papermill": {
     "duration": 1.337958,
     "end_time": "2023-09-09T18:32:25.694612",
     "exception": false,
     "start_time": "2023-09-09T18:32:24.356654",
     "status": "completed"
    },
    "tags": []
   },
   "outputs": [],
   "source": [
    "#4\n",
    "from sklearn.model_selection import train_test_split\n",
    "X_train, X_test, y_train, y_test = train_test_split(X,y, train_size=0.7, random_state=2529)"
   ]
  },
  {
   "cell_type": "code",
   "execution_count": 10,
   "id": "4aa65fcb",
   "metadata": {
    "execution": {
     "iopub.execute_input": "2023-09-09T18:32:25.708736Z",
     "iopub.status.busy": "2023-09-09T18:32:25.708355Z",
     "iopub.status.idle": "2023-09-09T18:32:25.900755Z",
     "shell.execute_reply": "2023-09-09T18:32:25.899604Z"
    },
    "id": "geuZwd8SXzBX",
    "papermill": {
     "duration": 0.202666,
     "end_time": "2023-09-09T18:32:25.903244",
     "exception": false,
     "start_time": "2023-09-09T18:32:25.700578",
     "status": "completed"
    },
    "tags": []
   },
   "outputs": [],
   "source": [
    "#5\n",
    "from sklearn.linear_model import LogisticRegression\n",
    "model = LogisticRegression(max_iter=5000)"
   ]
  },
  {
   "cell_type": "code",
   "execution_count": 11,
   "id": "ecd78745",
   "metadata": {
    "execution": {
     "iopub.execute_input": "2023-09-09T18:32:25.916918Z",
     "iopub.status.busy": "2023-09-09T18:32:25.916507Z",
     "iopub.status.idle": "2023-09-09T18:32:26.402003Z",
     "shell.execute_reply": "2023-09-09T18:32:26.400488Z"
    },
    "id": "7bKBVHl1XzE-",
    "outputId": "f923094d-4955-44f5-8401-69efd9936b55",
    "papermill": {
     "duration": 0.495527,
     "end_time": "2023-09-09T18:32:26.404765",
     "exception": false,
     "start_time": "2023-09-09T18:32:25.909238",
     "status": "completed"
    },
    "tags": []
   },
   "outputs": [
    {
     "data": {
      "text/html": [
       "<style>#sk-container-id-1 {color: black;background-color: white;}#sk-container-id-1 pre{padding: 0;}#sk-container-id-1 div.sk-toggleable {background-color: white;}#sk-container-id-1 label.sk-toggleable__label {cursor: pointer;display: block;width: 100%;margin-bottom: 0;padding: 0.3em;box-sizing: border-box;text-align: center;}#sk-container-id-1 label.sk-toggleable__label-arrow:before {content: \"▸\";float: left;margin-right: 0.25em;color: #696969;}#sk-container-id-1 label.sk-toggleable__label-arrow:hover:before {color: black;}#sk-container-id-1 div.sk-estimator:hover label.sk-toggleable__label-arrow:before {color: black;}#sk-container-id-1 div.sk-toggleable__content {max-height: 0;max-width: 0;overflow: hidden;text-align: left;background-color: #f0f8ff;}#sk-container-id-1 div.sk-toggleable__content pre {margin: 0.2em;color: black;border-radius: 0.25em;background-color: #f0f8ff;}#sk-container-id-1 input.sk-toggleable__control:checked~div.sk-toggleable__content {max-height: 200px;max-width: 100%;overflow: auto;}#sk-container-id-1 input.sk-toggleable__control:checked~label.sk-toggleable__label-arrow:before {content: \"▾\";}#sk-container-id-1 div.sk-estimator input.sk-toggleable__control:checked~label.sk-toggleable__label {background-color: #d4ebff;}#sk-container-id-1 div.sk-label input.sk-toggleable__control:checked~label.sk-toggleable__label {background-color: #d4ebff;}#sk-container-id-1 input.sk-hidden--visually {border: 0;clip: rect(1px 1px 1px 1px);clip: rect(1px, 1px, 1px, 1px);height: 1px;margin: -1px;overflow: hidden;padding: 0;position: absolute;width: 1px;}#sk-container-id-1 div.sk-estimator {font-family: monospace;background-color: #f0f8ff;border: 1px dotted black;border-radius: 0.25em;box-sizing: border-box;margin-bottom: 0.5em;}#sk-container-id-1 div.sk-estimator:hover {background-color: #d4ebff;}#sk-container-id-1 div.sk-parallel-item::after {content: \"\";width: 100%;border-bottom: 1px solid gray;flex-grow: 1;}#sk-container-id-1 div.sk-label:hover label.sk-toggleable__label {background-color: #d4ebff;}#sk-container-id-1 div.sk-serial::before {content: \"\";position: absolute;border-left: 1px solid gray;box-sizing: border-box;top: 0;bottom: 0;left: 50%;z-index: 0;}#sk-container-id-1 div.sk-serial {display: flex;flex-direction: column;align-items: center;background-color: white;padding-right: 0.2em;padding-left: 0.2em;position: relative;}#sk-container-id-1 div.sk-item {position: relative;z-index: 1;}#sk-container-id-1 div.sk-parallel {display: flex;align-items: stretch;justify-content: center;background-color: white;position: relative;}#sk-container-id-1 div.sk-item::before, #sk-container-id-1 div.sk-parallel-item::before {content: \"\";position: absolute;border-left: 1px solid gray;box-sizing: border-box;top: 0;bottom: 0;left: 50%;z-index: -1;}#sk-container-id-1 div.sk-parallel-item {display: flex;flex-direction: column;z-index: 1;position: relative;background-color: white;}#sk-container-id-1 div.sk-parallel-item:first-child::after {align-self: flex-end;width: 50%;}#sk-container-id-1 div.sk-parallel-item:last-child::after {align-self: flex-start;width: 50%;}#sk-container-id-1 div.sk-parallel-item:only-child::after {width: 0;}#sk-container-id-1 div.sk-dashed-wrapped {border: 1px dashed gray;margin: 0 0.4em 0.5em 0.4em;box-sizing: border-box;padding-bottom: 0.4em;background-color: white;}#sk-container-id-1 div.sk-label label {font-family: monospace;font-weight: bold;display: inline-block;line-height: 1.2em;}#sk-container-id-1 div.sk-label-container {text-align: center;}#sk-container-id-1 div.sk-container {/* jupyter's `normalize.less` sets `[hidden] { display: none; }` but bootstrap.min.css set `[hidden] { display: none !important; }` so we also need the `!important` here to be able to override the default hidden behavior on the sphinx rendered scikit-learn.org. See: https://github.com/scikit-learn/scikit-learn/issues/21755 */display: inline-block !important;position: relative;}#sk-container-id-1 div.sk-text-repr-fallback {display: none;}</style><div id=\"sk-container-id-1\" class=\"sk-top-container\"><div class=\"sk-text-repr-fallback\"><pre>LogisticRegression(max_iter=5000)</pre><b>In a Jupyter environment, please rerun this cell to show the HTML representation or trust the notebook. <br />On GitHub, the HTML representation is unable to render, please try loading this page with nbviewer.org.</b></div><div class=\"sk-container\" hidden><div class=\"sk-item\"><div class=\"sk-estimator sk-toggleable\"><input class=\"sk-toggleable__control sk-hidden--visually\" id=\"sk-estimator-id-1\" type=\"checkbox\" checked><label for=\"sk-estimator-id-1\" class=\"sk-toggleable__label sk-toggleable__label-arrow\">LogisticRegression</label><div class=\"sk-toggleable__content\"><pre>LogisticRegression(max_iter=5000)</pre></div></div></div></div></div>"
      ],
      "text/plain": [
       "LogisticRegression(max_iter=5000)"
      ]
     },
     "execution_count": 11,
     "metadata": {},
     "output_type": "execute_result"
    }
   ],
   "source": [
    "#6\n",
    "model.fit(X_train,y_train)"
   ]
  },
  {
   "cell_type": "code",
   "execution_count": 12,
   "id": "dbea5fb2",
   "metadata": {
    "execution": {
     "iopub.execute_input": "2023-09-09T18:32:26.419450Z",
     "iopub.status.busy": "2023-09-09T18:32:26.419022Z",
     "iopub.status.idle": "2023-09-09T18:32:26.425658Z",
     "shell.execute_reply": "2023-09-09T18:32:26.424194Z"
    },
    "id": "bG4-KlbZXzL9",
    "outputId": "9da9fff5-5501-41c5-9aec-093019b42b08",
    "papermill": {
     "duration": 0.016961,
     "end_time": "2023-09-09T18:32:26.428252",
     "exception": false,
     "start_time": "2023-09-09T18:32:26.411291",
     "status": "completed"
    },
    "tags": []
   },
   "outputs": [
    {
     "data": {
      "text/plain": [
       "array([ -4.99474125, -16.3636514 ,  21.35839265])"
      ]
     },
     "execution_count": 12,
     "metadata": {},
     "output_type": "execute_result"
    }
   ],
   "source": [
    "model.intercept_"
   ]
  },
  {
   "cell_type": "code",
   "execution_count": 13,
   "id": "30d77db2",
   "metadata": {
    "execution": {
     "iopub.execute_input": "2023-09-09T18:32:26.443707Z",
     "iopub.status.busy": "2023-09-09T18:32:26.443334Z",
     "iopub.status.idle": "2023-09-09T18:32:26.450954Z",
     "shell.execute_reply": "2023-09-09T18:32:26.449476Z"
    },
    "id": "i8u1uR-edcHT",
    "papermill": {
     "duration": 0.01782,
     "end_time": "2023-09-09T18:32:26.453007",
     "exception": false,
     "start_time": "2023-09-09T18:32:26.435187",
     "status": "completed"
    },
    "tags": []
   },
   "outputs": [],
   "source": [
    "#7\n",
    "y_pred = model.predict(X_test)"
   ]
  },
  {
   "cell_type": "code",
   "execution_count": 14,
   "id": "2e5f60c6",
   "metadata": {
    "execution": {
     "iopub.execute_input": "2023-09-09T18:32:26.467307Z",
     "iopub.status.busy": "2023-09-09T18:32:26.466607Z",
     "iopub.status.idle": "2023-09-09T18:32:26.472486Z",
     "shell.execute_reply": "2023-09-09T18:32:26.471791Z"
    },
    "id": "eB7G2D5DdbvD",
    "outputId": "517286b7-f933-46ca-ed78-6348083df3e7",
    "papermill": {
     "duration": 0.014794,
     "end_time": "2023-09-09T18:32:26.474229",
     "exception": false,
     "start_time": "2023-09-09T18:32:26.459435",
     "status": "completed"
    },
    "tags": []
   },
   "outputs": [
    {
     "data": {
      "text/plain": [
       "array(['Barbera', 'Barbera', 'Grignolino', 'Barolo', 'Grignolino',\n",
       "       'Grignolino', 'Barolo', 'Barbera', 'Barolo', 'Grignolino',\n",
       "       'Grignolino', 'Grignolino', 'Barbera', 'Barolo', 'Barbera',\n",
       "       'Barolo', 'Barbera', 'Barbera', 'Barolo', 'Grignolino', 'Barbera',\n",
       "       'Grignolino', 'Barolo', 'Barbera', 'Barbera', 'Grignolino',\n",
       "       'Grignolino', 'Barbera', 'Barolo', 'Grignolino', 'Grignolino',\n",
       "       'Barolo', 'Grignolino', 'Barolo', 'Grignolino', 'Grignolino',\n",
       "       'Barolo', 'Barbera', 'Grignolino', 'Barolo', 'Barolo', 'Barolo',\n",
       "       'Barolo', 'Barbera', 'Grignolino', 'Barolo', 'Barbera',\n",
       "       'Grignolino', 'Barolo', 'Grignolino', 'Barolo', 'Barbera',\n",
       "       'Barbera', 'Barbera'], dtype=object)"
      ]
     },
     "execution_count": 14,
     "metadata": {},
     "output_type": "execute_result"
    }
   ],
   "source": [
    "y_pred"
   ]
  },
  {
   "cell_type": "code",
   "execution_count": 15,
   "id": "dc99c281",
   "metadata": {
    "execution": {
     "iopub.execute_input": "2023-09-09T18:32:26.487986Z",
     "iopub.status.busy": "2023-09-09T18:32:26.487642Z",
     "iopub.status.idle": "2023-09-09T18:32:26.494409Z",
     "shell.execute_reply": "2023-09-09T18:32:26.493590Z"
    },
    "id": "dku_S352db8Z",
    "outputId": "734bff57-069e-4fd3-cece-fc8798b8ac9b",
    "papermill": {
     "duration": 0.015676,
     "end_time": "2023-09-09T18:32:26.496080",
     "exception": false,
     "start_time": "2023-09-09T18:32:26.480404",
     "status": "completed"
    },
    "tags": []
   },
   "outputs": [
    {
     "data": {
      "text/plain": [
       "0.9629629629629629"
      ]
     },
     "execution_count": 15,
     "metadata": {},
     "output_type": "execute_result"
    }
   ],
   "source": [
    "#8\n",
    "from sklearn.metrics import accuracy_score\n",
    "accuracy_score(y_test,y_pred)"
   ]
  },
  {
   "cell_type": "markdown",
   "id": "37306215",
   "metadata": {
    "id": "TmM46TI2iQZ5",
    "papermill": {
     "duration": 0.006001,
     "end_time": "2023-09-09T18:32:26.508319",
     "exception": false,
     "start_time": "2023-09-09T18:32:26.502318",
     "status": "completed"
    },
    "tags": []
   },
   "source": [
    "I selected Logistic Regression model because one of the input is categorical variable and i took,\n",
    "Just color_intensity which gave me 77% accuracy.\n",
    "then i used Random forest which gave 69% accuracy.\n",
    "and other then i involved two more metrics as input from dataset that gave me 92%.\n",
    "finally  used all other metrics except class lable which game me 96% accuracy. finally to predict 3 wine's brand from the metrics."
   ]
  }
 ],
 "kernelspec": {
  "display_name": "Python 3",
  "language": "python",
  "name": "python3"
 },
 "language_info": {
  "codemirror_mode": {
   "name": "ipython",
   "version": 3
  },
  "file_extension": ".py",
  "mimetype": "text/x-python",
  "name": "python",
  "nbconvert_exporter": "python",
  "pygments_lexer": "ipython3",
  "version": "3.6.4"
 },
 "metadata": {
  "colab": {
   "provenance": []
  },
  "kernelspec": {
   "display_name": "Python 3",
   "name": "python3"
  },
  "language_info": {
   "codemirror_mode": {
    "name": "ipython",
    "version": 3
   },
   "file_extension": ".py",
   "mimetype": "text/x-python",
   "name": "python",
   "nbconvert_exporter": "python",
   "pygments_lexer": "ipython3",
   "version": "3.10.12"
  },
  "papermill": {
   "default_parameters": {},
   "duration": 6.843949,
   "end_time": "2023-09-09T18:32:27.134926",
   "environment_variables": {},
   "exception": null,
   "input_path": "__notebook__.ipynb",
   "output_path": "__notebook__.ipynb",
   "parameters": {},
   "start_time": "2023-09-09T18:32:20.290977",
   "version": "2.4.0"
  }
 },
 "nbformat": 4,
 "nbformat_minor": 5
}
